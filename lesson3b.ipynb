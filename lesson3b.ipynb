{
 "cells": [
  {
   "cell_type": "code",
   "execution_count": 51,
   "metadata": {},
   "outputs": [],
   "source": [
    "# Hypothesis Testing\n",
    "# Ho : Mean Sample is Eqaul to mean Population\n",
    "# H1 : Mean Sample is Not equal to Mean Population\n",
    "\n",
    "# Probability -> 1\n",
    "# p-value (alpha) -> 0.05 \n",
    "# Confidence -> 1-alpha(0.05) -> 0.95\n",
    "\n",
    "# Confidence : The probability value to REJECT the null hypothesis\n",
    "# Increase in alpha : Accept the Null Hypothesis because the confidence reduces\n",
    "# Decrease in alpha : Reject the Null Hypothesis because the confidence increases\n"
   ]
  },
  {
   "cell_type": "code",
   "execution_count": 52,
   "metadata": {},
   "outputs": [],
   "source": [
    "# Two sample T Test : We test whether two samples have the same mean\n",
    "import pandas\n",
    "data = pandas.read_csv('data/school.csv')\n"
   ]
  },
  {
   "cell_type": "code",
   "execution_count": 53,
   "metadata": {},
   "outputs": [],
   "source": [
    "reading = data['Reading']\n",
    "first_sample = reading.sample(25)\n",
    "second_sample = reading.sample(25)"
   ]
  },
  {
   "cell_type": "code",
   "execution_count": 54,
   "metadata": {},
   "outputs": [
    {
     "name": "stdout",
     "output_type": "stream",
     "text": [
      "nan\n",
      "Reject the Null Hypothesis \n",
      "Accept the  Alternate ...\n"
     ]
    }
   ],
   "source": [
    "from scipy.stats import levene\n",
    "statistics, pvalue = levene(first_sample,second_sample)\n",
    "print(pvalue)\n",
    "if pvalue > 0.05:\n",
    "        print('Accept the Null Hypothesis')\n",
    "        print('Reject the Alternate ...')\n",
    "else:\n",
    "        print('Reject the Null Hypothesis ')\n",
    "        print('Accept the  Alternate ...')    "
   ]
  },
  {
   "cell_type": "code",
   "execution_count": 55,
   "metadata": {},
   "outputs": [
    {
     "data": {
      "text/plain": [
       "ids               0\n",
       "bday              8\n",
       "enrolldate       29\n",
       "expgradate       29\n",
       "Rank             29\n",
       "Major           159\n",
       "Gender            9\n",
       "Athlete           0\n",
       "Height           27\n",
       "Weight           59\n",
       "Smoking          24\n",
       "Sprint           61\n",
       "MileMinDur       43\n",
       "English          26\n",
       "Reading          10\n",
       "Math             13\n",
       "Writing          31\n",
       "State            27\n",
       "LiveOnCampus     21\n",
       "HowCommute      188\n",
       "CommuteTime     188\n",
       "SleepTime        32\n",
       "StudyTime        42\n",
       "dtype: int64"
      ]
     },
     "execution_count": 55,
     "metadata": {},
     "output_type": "execute_result"
    }
   ],
   "source": [
    "# Applying Two Sample Testing Test Whether Reading and Writing were close in performance(mean is equal)\n",
    "# Ho : Mean Reading and Mean Writing have the same mean\n",
    "# H1 : Vice Versa\n",
    "#ANOVA(Analysis of Variance)\n",
    "data.isnull().sum()"
   ]
  },
  {
   "cell_type": "code",
   "execution_count": 65,
   "metadata": {},
   "outputs": [
    {
     "name": "stdout",
     "output_type": "stream",
     "text": [
      "2.070420985115089e-08\n",
      "Accept the Alternative...\n",
      "Reject the Null Hypothesis\n"
     ]
    }
   ],
   "source": [
    "mean_reading = data['Reading'].mean()\n",
    "data.fillna(mean_reading,inplace=True)\n",
    "\n",
    "mean_writing = data['Writing'].mean()\n",
    "data.fillna(mean_writing,inplace=True)\n",
    "\n",
    "reading = data['Reading']\n",
    "writing = data['Writing']\n",
    "\n",
    "from scipy.stats import levene\n",
    "statistics, pvalue = levene(reading,writing)\n",
    "print(pvalue)\n",
    "if pvalue> 0.05:\n",
    "    print('Accept the Null Hypothesis')\n",
    "    print('Reject the Alternative ...')\n",
    "else:\n",
    "    print(\"Accept the Alternative...\")\n",
    "    print(\"Reject the Null Hypothesis\")"
   ]
  }
 ],
 "metadata": {
  "kernelspec": {
   "display_name": "Python 3",
   "language": "python",
   "name": "python3"
  },
  "language_info": {
   "codemirror_mode": {
    "name": "ipython",
    "version": 3
   },
   "file_extension": ".py",
   "mimetype": "text/x-python",
   "name": "python",
   "nbconvert_exporter": "python",
   "pygments_lexer": "ipython3",
   "version": "3.10.6 (main, Nov 14 2022, 16:10:14) [GCC 11.3.0]"
  },
  "orig_nbformat": 4,
  "vscode": {
   "interpreter": {
    "hash": "916dbcbb3f70747c44a77c7bcd40155683ae19c65e1c03b4aa3499c5328201f1"
   }
  }
 },
 "nbformat": 4,
 "nbformat_minor": 2
}
