{
 "cells": [
  {
   "cell_type": "code",
   "execution_count": null,
   "metadata": {},
   "outputs": [],
   "source": [
    "# Machine Learning : A branch of Artificial Intelligence where application/machines are trained to learn from data using scientific methods/algorithms \n",
    "\n",
    "# Subdivided into 5 major categories:\n",
    "# 1. Regression: Deals with numerical data(continuous) e,g predict sales, rainfall amount, finance\n",
    "# 2. Classification : Deals with Predicting textual data(categorical data) e,g predictive analysis\n",
    "# 3. Clustering: Grouping data into different categories \n",
    "# 4. Association \n",
    "# 5. Deep Learning(nueral networks)"
   ]
  },
  {
   "cell_type": "code",
   "execution_count": null,
   "metadata": {},
   "outputs": [],
   "source": [
    "# Read on :\n",
    "# 1. Supervised Learning\n",
    "# 2. Unsupervised Learning"
   ]
  }
 ],
 "metadata": {
  "kernelspec": {
   "display_name": "Python 3",
   "language": "python",
   "name": "python3"
  },
  "language_info": {
   "name": "python",
   "version": "3.10.6 (main, Nov 14 2022, 16:10:14) [GCC 11.3.0]"
  },
  "orig_nbformat": 4,
  "vscode": {
   "interpreter": {
    "hash": "916dbcbb3f70747c44a77c7bcd40155683ae19c65e1c03b4aa3499c5328201f1"
   }
  }
 },
 "nbformat": 4,
 "nbformat_minor": 2
}
