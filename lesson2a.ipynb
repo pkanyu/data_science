{
 "cells": [
  {
   "cell_type": "code",
   "execution_count": 64,
   "metadata": {},
   "outputs": [
    {
     "data": {
      "text/html": [
       "<div>\n",
       "<style scoped>\n",
       "    .dataframe tbody tr th:only-of-type {\n",
       "        vertical-align: middle;\n",
       "    }\n",
       "\n",
       "    .dataframe tbody tr th {\n",
       "        vertical-align: top;\n",
       "    }\n",
       "\n",
       "    .dataframe thead th {\n",
       "        text-align: right;\n",
       "    }\n",
       "</style>\n",
       "<table border=\"1\" class=\"dataframe\">\n",
       "  <thead>\n",
       "    <tr style=\"text-align: right;\">\n",
       "      <th></th>\n",
       "      <th>ids</th>\n",
       "      <th>bday</th>\n",
       "      <th>enrolldate</th>\n",
       "      <th>expgradate</th>\n",
       "      <th>Rank</th>\n",
       "      <th>Major</th>\n",
       "      <th>Gender</th>\n",
       "      <th>Athlete</th>\n",
       "      <th>Height</th>\n",
       "      <th>Weight</th>\n",
       "      <th>...</th>\n",
       "      <th>English</th>\n",
       "      <th>Reading</th>\n",
       "      <th>Math</th>\n",
       "      <th>Writing</th>\n",
       "      <th>State</th>\n",
       "      <th>LiveOnCampus</th>\n",
       "      <th>HowCommute</th>\n",
       "      <th>CommuteTime</th>\n",
       "      <th>SleepTime</th>\n",
       "      <th>StudyTime</th>\n",
       "    </tr>\n",
       "  </thead>\n",
       "  <tbody>\n",
       "    <tr>\n",
       "      <th>0</th>\n",
       "      <td>43783</td>\n",
       "      <td>3/22/1995</td>\n",
       "      <td>NaN</td>\n",
       "      <td>NaN</td>\n",
       "      <td>NaN</td>\n",
       "      <td>NaN</td>\n",
       "      <td>0.0</td>\n",
       "      <td>0</td>\n",
       "      <td>72.35</td>\n",
       "      <td>NaN</td>\n",
       "      <td>...</td>\n",
       "      <td>88.24</td>\n",
       "      <td>81.50</td>\n",
       "      <td>60.02</td>\n",
       "      <td>81.44</td>\n",
       "      <td>In state</td>\n",
       "      <td>1.0</td>\n",
       "      <td>NaN</td>\n",
       "      <td>NaN</td>\n",
       "      <td>7.0</td>\n",
       "      <td>1.0</td>\n",
       "    </tr>\n",
       "    <tr>\n",
       "      <th>1</th>\n",
       "      <td>20278</td>\n",
       "      <td>1/1/1995</td>\n",
       "      <td>NaN</td>\n",
       "      <td>NaN</td>\n",
       "      <td>NaN</td>\n",
       "      <td>Philosophy</td>\n",
       "      <td>0.0</td>\n",
       "      <td>0</td>\n",
       "      <td>70.66</td>\n",
       "      <td>179.20</td>\n",
       "      <td>...</td>\n",
       "      <td>89.45</td>\n",
       "      <td>85.25</td>\n",
       "      <td>70.19</td>\n",
       "      <td>73.27</td>\n",
       "      <td>NaN</td>\n",
       "      <td>1.0</td>\n",
       "      <td>NaN</td>\n",
       "      <td>NaN</td>\n",
       "      <td>5.0</td>\n",
       "      <td>2.0</td>\n",
       "    </tr>\n",
       "    <tr>\n",
       "      <th>2</th>\n",
       "      <td>20389</td>\n",
       "      <td>12/31/1994</td>\n",
       "      <td>NaN</td>\n",
       "      <td>NaN</td>\n",
       "      <td>NaN</td>\n",
       "      <td>NaN</td>\n",
       "      <td>0.0</td>\n",
       "      <td>0</td>\n",
       "      <td>70.68</td>\n",
       "      <td>198.52</td>\n",
       "      <td>...</td>\n",
       "      <td>96.73</td>\n",
       "      <td>86.88</td>\n",
       "      <td>71.20</td>\n",
       "      <td>84.24</td>\n",
       "      <td>In state</td>\n",
       "      <td>NaN</td>\n",
       "      <td>NaN</td>\n",
       "      <td>NaN</td>\n",
       "      <td>8.0</td>\n",
       "      <td>7.0</td>\n",
       "    </tr>\n",
       "    <tr>\n",
       "      <th>3</th>\n",
       "      <td>22820</td>\n",
       "      <td>12/1/1994</td>\n",
       "      <td>NaN</td>\n",
       "      <td>NaN</td>\n",
       "      <td>NaN</td>\n",
       "      <td>business administration</td>\n",
       "      <td>1.0</td>\n",
       "      <td>0</td>\n",
       "      <td>NaN</td>\n",
       "      <td>198.34</td>\n",
       "      <td>...</td>\n",
       "      <td>74.06</td>\n",
       "      <td>88.68</td>\n",
       "      <td>55.89</td>\n",
       "      <td>73.16</td>\n",
       "      <td>In state</td>\n",
       "      <td>1.0</td>\n",
       "      <td>NaN</td>\n",
       "      <td>NaN</td>\n",
       "      <td>2.0</td>\n",
       "      <td>6.0</td>\n",
       "    </tr>\n",
       "    <tr>\n",
       "      <th>4</th>\n",
       "      <td>24559</td>\n",
       "      <td>11/10/1994</td>\n",
       "      <td>NaN</td>\n",
       "      <td>NaN</td>\n",
       "      <td>NaN</td>\n",
       "      <td>NaN</td>\n",
       "      <td>1.0</td>\n",
       "      <td>1</td>\n",
       "      <td>67.43</td>\n",
       "      <td>128.17</td>\n",
       "      <td>...</td>\n",
       "      <td>82.61</td>\n",
       "      <td>77.30</td>\n",
       "      <td>65.52</td>\n",
       "      <td>80.45</td>\n",
       "      <td>Out of state</td>\n",
       "      <td>1.0</td>\n",
       "      <td>NaN</td>\n",
       "      <td>NaN</td>\n",
       "      <td>7.0</td>\n",
       "      <td>3.0</td>\n",
       "    </tr>\n",
       "    <tr>\n",
       "      <th>...</th>\n",
       "      <td>...</td>\n",
       "      <td>...</td>\n",
       "      <td>...</td>\n",
       "      <td>...</td>\n",
       "      <td>...</td>\n",
       "      <td>...</td>\n",
       "      <td>...</td>\n",
       "      <td>...</td>\n",
       "      <td>...</td>\n",
       "      <td>...</td>\n",
       "      <td>...</td>\n",
       "      <td>...</td>\n",
       "      <td>...</td>\n",
       "      <td>...</td>\n",
       "      <td>...</td>\n",
       "      <td>...</td>\n",
       "      <td>...</td>\n",
       "      <td>...</td>\n",
       "      <td>...</td>\n",
       "      <td>...</td>\n",
       "      <td>...</td>\n",
       "    </tr>\n",
       "    <tr>\n",
       "      <th>430</th>\n",
       "      <td>34021</td>\n",
       "      <td>7/18/1987</td>\n",
       "      <td>1-Aug-2011</td>\n",
       "      <td>08-May-2017</td>\n",
       "      <td>4.0</td>\n",
       "      <td>accounting</td>\n",
       "      <td>1.0</td>\n",
       "      <td>0</td>\n",
       "      <td>NaN</td>\n",
       "      <td>NaN</td>\n",
       "      <td>...</td>\n",
       "      <td>87.72</td>\n",
       "      <td>84.99</td>\n",
       "      <td>65.31</td>\n",
       "      <td>NaN</td>\n",
       "      <td>In state</td>\n",
       "      <td>0.0</td>\n",
       "      <td>1.0</td>\n",
       "      <td>18.0</td>\n",
       "      <td>1.0</td>\n",
       "      <td>10.0</td>\n",
       "    </tr>\n",
       "    <tr>\n",
       "      <th>431</th>\n",
       "      <td>40697</td>\n",
       "      <td>4/29/1987</td>\n",
       "      <td>1-Aug-2011</td>\n",
       "      <td>09-May-2016</td>\n",
       "      <td>4.0</td>\n",
       "      <td>NaN</td>\n",
       "      <td>0.0</td>\n",
       "      <td>0</td>\n",
       "      <td>68.50</td>\n",
       "      <td>131.92</td>\n",
       "      <td>...</td>\n",
       "      <td>91.01</td>\n",
       "      <td>86.87</td>\n",
       "      <td>70.25</td>\n",
       "      <td>82.67</td>\n",
       "      <td>In state</td>\n",
       "      <td>0.0</td>\n",
       "      <td>3.0</td>\n",
       "      <td>26.0</td>\n",
       "      <td>6.0</td>\n",
       "      <td>15.0</td>\n",
       "    </tr>\n",
       "    <tr>\n",
       "      <th>432</th>\n",
       "      <td>34272</td>\n",
       "      <td>NaN</td>\n",
       "      <td>1-Aug-2011</td>\n",
       "      <td>09-May-2016</td>\n",
       "      <td>4.0</td>\n",
       "      <td>nursing</td>\n",
       "      <td>0.0</td>\n",
       "      <td>1</td>\n",
       "      <td>68.10</td>\n",
       "      <td>130.07</td>\n",
       "      <td>...</td>\n",
       "      <td>81.05</td>\n",
       "      <td>85.76</td>\n",
       "      <td>58.16</td>\n",
       "      <td>81.87</td>\n",
       "      <td>NaN</td>\n",
       "      <td>0.0</td>\n",
       "      <td>3.0</td>\n",
       "      <td>29.0</td>\n",
       "      <td>6.0</td>\n",
       "      <td>10.0</td>\n",
       "    </tr>\n",
       "    <tr>\n",
       "      <th>433</th>\n",
       "      <td>33628</td>\n",
       "      <td>NaN</td>\n",
       "      <td>1-Aug-2011</td>\n",
       "      <td>08-May-2017</td>\n",
       "      <td>4.0</td>\n",
       "      <td>Nursing</td>\n",
       "      <td>1.0</td>\n",
       "      <td>1</td>\n",
       "      <td>69.27</td>\n",
       "      <td>157.26</td>\n",
       "      <td>...</td>\n",
       "      <td>75.59</td>\n",
       "      <td>85.97</td>\n",
       "      <td>66.84</td>\n",
       "      <td>79.35</td>\n",
       "      <td>In state</td>\n",
       "      <td>0.0</td>\n",
       "      <td>1.0</td>\n",
       "      <td>14.0</td>\n",
       "      <td>4.0</td>\n",
       "      <td>10.0</td>\n",
       "    </tr>\n",
       "    <tr>\n",
       "      <th>434</th>\n",
       "      <td>39298</td>\n",
       "      <td>NaN</td>\n",
       "      <td>1-Aug-2011</td>\n",
       "      <td>08-May-2017</td>\n",
       "      <td>4.0</td>\n",
       "      <td>NaN</td>\n",
       "      <td>1.0</td>\n",
       "      <td>1</td>\n",
       "      <td>66.68</td>\n",
       "      <td>152.33</td>\n",
       "      <td>...</td>\n",
       "      <td>75.65</td>\n",
       "      <td>77.24</td>\n",
       "      <td>60.24</td>\n",
       "      <td>75.23</td>\n",
       "      <td>In state</td>\n",
       "      <td>0.0</td>\n",
       "      <td>3.0</td>\n",
       "      <td>27.0</td>\n",
       "      <td>2.0</td>\n",
       "      <td>10.0</td>\n",
       "    </tr>\n",
       "  </tbody>\n",
       "</table>\n",
       "<p>435 rows × 23 columns</p>\n",
       "</div>"
      ],
      "text/plain": [
       "       ids        bday  enrolldate   expgradate  Rank  \\\n",
       "0    43783   3/22/1995         NaN          NaN   NaN   \n",
       "1    20278    1/1/1995         NaN          NaN   NaN   \n",
       "2    20389  12/31/1994         NaN          NaN   NaN   \n",
       "3    22820   12/1/1994         NaN          NaN   NaN   \n",
       "4    24559  11/10/1994         NaN          NaN   NaN   \n",
       "..     ...         ...         ...          ...   ...   \n",
       "430  34021   7/18/1987  1-Aug-2011  08-May-2017   4.0   \n",
       "431  40697   4/29/1987  1-Aug-2011  09-May-2016   4.0   \n",
       "432  34272         NaN  1-Aug-2011  09-May-2016   4.0   \n",
       "433  33628         NaN  1-Aug-2011  08-May-2017   4.0   \n",
       "434  39298         NaN  1-Aug-2011  08-May-2017   4.0   \n",
       "\n",
       "                       Major  Gender  Athlete  Height  Weight  ...  English  \\\n",
       "0                        NaN     0.0        0   72.35     NaN  ...    88.24   \n",
       "1                 Philosophy     0.0        0   70.66  179.20  ...    89.45   \n",
       "2                        NaN     0.0        0   70.68  198.52  ...    96.73   \n",
       "3    business administration     1.0        0     NaN  198.34  ...    74.06   \n",
       "4                        NaN     1.0        1   67.43  128.17  ...    82.61   \n",
       "..                       ...     ...      ...     ...     ...  ...      ...   \n",
       "430               accounting     1.0        0     NaN     NaN  ...    87.72   \n",
       "431                      NaN     0.0        0   68.50  131.92  ...    91.01   \n",
       "432                  nursing     0.0        1   68.10  130.07  ...    81.05   \n",
       "433                  Nursing     1.0        1   69.27  157.26  ...    75.59   \n",
       "434                      NaN     1.0        1   66.68  152.33  ...    75.65   \n",
       "\n",
       "     Reading   Math  Writing         State  LiveOnCampus  HowCommute  \\\n",
       "0      81.50  60.02    81.44      In state           1.0         NaN   \n",
       "1      85.25  70.19    73.27           NaN           1.0         NaN   \n",
       "2      86.88  71.20    84.24      In state           NaN         NaN   \n",
       "3      88.68  55.89    73.16      In state           1.0         NaN   \n",
       "4      77.30  65.52    80.45  Out of state           1.0         NaN   \n",
       "..       ...    ...      ...           ...           ...         ...   \n",
       "430    84.99  65.31      NaN      In state           0.0         1.0   \n",
       "431    86.87  70.25    82.67      In state           0.0         3.0   \n",
       "432    85.76  58.16    81.87           NaN           0.0         3.0   \n",
       "433    85.97  66.84    79.35      In state           0.0         1.0   \n",
       "434    77.24  60.24    75.23      In state           0.0         3.0   \n",
       "\n",
       "    CommuteTime  SleepTime  StudyTime  \n",
       "0           NaN        7.0        1.0  \n",
       "1           NaN        5.0        2.0  \n",
       "2           NaN        8.0        7.0  \n",
       "3           NaN        2.0        6.0  \n",
       "4           NaN        7.0        3.0  \n",
       "..          ...        ...        ...  \n",
       "430        18.0        1.0       10.0  \n",
       "431        26.0        6.0       15.0  \n",
       "432        29.0        6.0       10.0  \n",
       "433        14.0        4.0       10.0  \n",
       "434        27.0        2.0       10.0  \n",
       "\n",
       "[435 rows x 23 columns]"
      ]
     },
     "execution_count": 64,
     "metadata": {},
     "output_type": "execute_result"
    }
   ],
   "source": [
    "#1. Fetching the school  Dataset.\n",
    "import pandas \n",
    "data = pandas.read_csv('data/school.csv')\n",
    "data"
   ]
  },
  {
   "cell_type": "code",
   "execution_count": 65,
   "metadata": {},
   "outputs": [
    {
     "data": {
      "text/plain": [
       "Gender\n",
       "0.0    204\n",
       "1.0    222\n",
       "dtype: int64"
      ]
     },
     "execution_count": 65,
     "metadata": {},
     "output_type": "execute_result"
    }
   ],
   "source": [
    "#Population : Entire dataset(Expensive and Time Consuming)\n",
    "#Sample : A portion of data that Represent Population\n",
    "\n",
    "#Categories of Data\n",
    "#1. Categorical Data : Data in text format e,g Course, Location, Gender\n",
    "#2, Continuous Data : Dat in Numeric Format e,g Age, Height\n",
    "\n",
    "# Categorical Data - groupby()\n",
    "data.groupby('Gender').size()"
   ]
  },
  {
   "cell_type": "code",
   "execution_count": 66,
   "metadata": {},
   "outputs": [
    {
     "data": {
      "text/plain": [
       "State\n",
       "In state        314\n",
       "Out of state     94\n",
       "dtype: int64"
      ]
     },
     "execution_count": 66,
     "metadata": {},
     "output_type": "execute_result"
    }
   ],
   "source": [
    "# Check the Categories in State\n",
    "data.groupby('State').size()"
   ]
  },
  {
   "cell_type": "code",
   "execution_count": 67,
   "metadata": {},
   "outputs": [
    {
     "data": {
      "text/plain": [
       "ids               0\n",
       "bday              8\n",
       "enrolldate       29\n",
       "expgradate       29\n",
       "Rank             29\n",
       "Major           159\n",
       "Gender            9\n",
       "Athlete           0\n",
       "Height           27\n",
       "Weight           59\n",
       "Smoking          24\n",
       "Sprint           61\n",
       "MileMinDur       43\n",
       "English          26\n",
       "Reading          10\n",
       "Math             13\n",
       "Writing          31\n",
       "State            27\n",
       "LiveOnCampus     21\n",
       "HowCommute      188\n",
       "CommuteTime     188\n",
       "SleepTime        32\n",
       "StudyTime        42\n",
       "dtype: int64"
      ]
     },
     "execution_count": 67,
     "metadata": {},
     "output_type": "execute_result"
    }
   ],
   "source": [
    "# Data Cleaning\n",
    "# 1. Checking and Removing Empty Records - data.isnull().sum()\n",
    "data.isnull().sum()"
   ]
  },
  {
   "cell_type": "code",
   "execution_count": 68,
   "metadata": {},
   "outputs": [
    {
     "data": {
      "text/plain": [
       "ids               0\n",
       "bday              8\n",
       "enrolldate       29\n",
       "expgradate       29\n",
       "Rank             29\n",
       "Major             0\n",
       "Gender            9\n",
       "Athlete           0\n",
       "Height           27\n",
       "Weight           59\n",
       "Smoking          24\n",
       "Sprint           61\n",
       "MileMinDur       43\n",
       "English          26\n",
       "Reading          10\n",
       "Math             13\n",
       "Writing          31\n",
       "State            27\n",
       "LiveOnCampus     21\n",
       "HowCommute      188\n",
       "CommuteTime     188\n",
       "SleepTime        32\n",
       "StudyTime        42\n",
       "dtype: int64"
      ]
     },
     "execution_count": 68,
     "metadata": {},
     "output_type": "execute_result"
    }
   ],
   "source": [
    "# Removing Empties - fillna(value, inplace=True)\n",
    "# 1. Categorical \n",
    "data.groupby('Major').size()\n",
    "data['Major'].fillna('Unknown', inplace=True)\n",
    "data.isnull().sum()\n"
   ]
  },
  {
   "cell_type": "code",
   "execution_count": 69,
   "metadata": {},
   "outputs": [
    {
     "data": {
      "text/plain": [
       "ids               0\n",
       "bday              8\n",
       "enrolldate       29\n",
       "expgradate       29\n",
       "Rank             29\n",
       "Major             0\n",
       "Gender            9\n",
       "Athlete           0\n",
       "Height           27\n",
       "Weight           59\n",
       "Smoking           0\n",
       "Sprint           61\n",
       "MileMinDur       43\n",
       "English          26\n",
       "Reading          10\n",
       "Math             13\n",
       "Writing          31\n",
       "State            27\n",
       "LiveOnCampus     21\n",
       "HowCommute      188\n",
       "CommuteTime     188\n",
       "SleepTime        32\n",
       "StudyTime        42\n",
       "dtype: int64"
      ]
     },
     "execution_count": 69,
     "metadata": {},
     "output_type": "execute_result"
    }
   ],
   "source": [
    "# Smoking \n",
    "data.groupby('Smoking').size()\n",
    "data['Smoking'].fillna('3.0', inplace=True)\n",
    "data.isnull().sum()"
   ]
  },
  {
   "cell_type": "code",
   "execution_count": 70,
   "metadata": {},
   "outputs": [
    {
     "data": {
      "text/plain": [
       "ids               0\n",
       "bday              8\n",
       "enrolldate       29\n",
       "expgradate       29\n",
       "Rank             29\n",
       "Major             0\n",
       "Gender            0\n",
       "Athlete           0\n",
       "Height           27\n",
       "Weight           59\n",
       "Smoking           0\n",
       "Sprint           61\n",
       "MileMinDur       43\n",
       "English          26\n",
       "Reading          10\n",
       "Math             13\n",
       "Writing          31\n",
       "State            27\n",
       "LiveOnCampus     21\n",
       "HowCommute      188\n",
       "CommuteTime     188\n",
       "SleepTime        32\n",
       "StudyTime        42\n",
       "dtype: int64"
      ]
     },
     "execution_count": 70,
     "metadata": {},
     "output_type": "execute_result"
    }
   ],
   "source": [
    "# Category Gender\n",
    "# Smoking \n",
    "data.groupby('Gender').size()\n",
    "data['Gender'].fillna(2.0, inplace=True)\n",
    "data.isnull().sum()"
   ]
  },
  {
   "cell_type": "code",
   "execution_count": 3,
   "metadata": {},
   "outputs": [
    {
     "ename": "NameError",
     "evalue": "name 'data' is not defined",
     "output_type": "error",
     "traceback": [
      "\u001b[0;31m---------------------------------------------------------------------------\u001b[0m",
      "\u001b[0;31mNameError\u001b[0m                                 Traceback (most recent call last)",
      "Cell \u001b[0;32mIn[3], line 2\u001b[0m\n\u001b[1;32m      1\u001b[0m \u001b[39m# Rank\u001b[39;00m\n\u001b[0;32m----> 2\u001b[0m data\u001b[39m.\u001b[39mgroupby(\u001b[39m'\u001b[39m\u001b[39mRank\u001b[39m\u001b[39m'\u001b[39m)\u001b[39m.\u001b[39msize()\n\u001b[1;32m      3\u001b[0m data[\u001b[39m'\u001b[39m\u001b[39mRank\u001b[39m\u001b[39m'\u001b[39m]\u001b[39m.\u001b[39mfillna(\u001b[39m5.0\u001b[39m, inplace\u001b[39m=\u001b[39m\u001b[39mTrue\u001b[39;00m)\n\u001b[1;32m      4\u001b[0m data\u001b[39m.\u001b[39misnull()\u001b[39m.\u001b[39msum()\n",
      "\u001b[0;31mNameError\u001b[0m: name 'data' is not defined"
     ]
    }
   ],
   "source": [
    "# Rank\n",
    "data.groupby('Rank').size()\n",
    "data['Rank'].fillna(5.0, inplace=True)\n",
    "data.isnull().sum()"
   ]
  },
  {
   "cell_type": "code",
   "execution_count": 72,
   "metadata": {},
   "outputs": [],
   "source": [
    "# # dropna\n",
    "# data['bday'].dropna('inplace=True')\n",
    "# data.isnull().sum()\n"
   ]
  },
  {
   "cell_type": "code",
   "execution_count": 73,
   "metadata": {},
   "outputs": [
    {
     "data": {
      "text/plain": [
       "ids               0\n",
       "bday              8\n",
       "enrolldate       29\n",
       "expgradate       29\n",
       "Rank              0\n",
       "Major             0\n",
       "Gender            0\n",
       "Athlete           0\n",
       "Height            0\n",
       "Weight           59\n",
       "Smoking           0\n",
       "Sprint           61\n",
       "MileMinDur       43\n",
       "English          26\n",
       "Reading          10\n",
       "Math             13\n",
       "Writing          31\n",
       "State            27\n",
       "LiveOnCampus     21\n",
       "HowCommute      188\n",
       "CommuteTime     188\n",
       "SleepTime        32\n",
       "StudyTime        42\n",
       "dtype: int64"
      ]
     },
     "execution_count": 73,
     "metadata": {},
     "output_type": "execute_result"
    }
   ],
   "source": [
    "# 2. Filling Continuous Columns - descriptive stats (mean, median...)\n",
    "# To Avoid OUtliers(Unusual datapoints)\n",
    "mean_height = data['Height'].mean()\n",
    "data['Height'].fillna(mean_height,inplace=True)\n",
    "data.isnull().sum()\n"
   ]
  },
  {
   "cell_type": "code",
   "execution_count": 74,
   "metadata": {},
   "outputs": [],
   "source": [
    "# Fill the following continuous data with their mean or median\n",
    "# Weight\n",
    "\n",
    "mean_height = data['Weight'].mean()\n",
    "data['Weight'].fillna(mean_height,inplace=True)\n",
    "\n",
    "# English\n",
    "\n",
    "mean_height = data['English'].mean()\n",
    "data['English'].fillna(mean_height,inplace=True)\n",
    "\n",
    "# Reading\n",
    "\n",
    "mean_height = data['Reading'].mean()\n",
    "data['Reading'].fillna(mean_height,inplace=True)\n",
    "\n",
    "# Math\n",
    "\n",
    "mean_height = data['Math'].mean()\n",
    "data['Math'].fillna(mean_height,inplace=True)\n",
    "\n",
    "# Writing\n",
    "\n",
    "mean_height = data['Writing'].mean()\n",
    "data['Writing'].fillna(mean_height,inplace=True)\n",
    "\n"
   ]
  },
  {
   "cell_type": "code",
   "execution_count": 75,
   "metadata": {},
   "outputs": [
    {
     "data": {
      "text/plain": [
       "Gender\n",
       "Female    222\n",
       "Male      204\n",
       "Unkown      9\n",
       "dtype: int64"
      ]
     },
     "execution_count": 75,
     "metadata": {},
     "output_type": "execute_result"
    }
   ],
   "source": [
    "data.groupby('Gender').size()\n",
    "data['Gender'].replace({0.0:'Male',1.0:'Female',2.0:'Unkown'},inplace=True)\n",
    "data.groupby('Gender').size()\n"
   ]
  },
  {
   "cell_type": "code",
   "execution_count": 76,
   "metadata": {},
   "outputs": [
    {
     "data": {
      "text/plain": [
       "Rank\n",
       "Freshman     147\n",
       "Junior        98\n",
       "Senior        65\n",
       "Sophomore     96\n",
       "Unknown       29\n",
       "dtype: int64"
      ]
     },
     "execution_count": 76,
     "metadata": {},
     "output_type": "execute_result"
    }
   ],
   "source": [
    "data.groupby('Rank').size()\n",
    "data['Rank'].replace({1.0:'Freshman',2.0:'Sophomore',3.0:'Junior',4.0:'Senior',5.0:'Unknown'},inplace=True)\n",
    "data.groupby('Rank').size()"
   ]
  },
  {
   "cell_type": "code",
   "execution_count": 79,
   "metadata": {},
   "outputs": [],
   "source": [
    "# Basic Data Analysis\n",
    "# Generate students who were below Average in Math\n",
    "math_average = data['Math'].mean()\n",
    "math_lower_avg =data[ data['Math'] < math_average]\n",
    "math_lower_avg.to_csv('LowerAverageMath.csv')\n",
    "\n"
   ]
  },
  {
   "cell_type": "code",
   "execution_count": 81,
   "metadata": {},
   "outputs": [
    {
     "data": {
      "text/plain": [
       "Rank\n",
       "Freshman     65.824830\n",
       "Junior       65.668102\n",
       "Senior       65.423939\n",
       "Sophomore    65.289417\n",
       "Unknown      63.673103\n",
       "Name: Math, dtype: float64"
      ]
     },
     "execution_count": 81,
     "metadata": {},
     "output_type": "execute_result"
    }
   ],
   "source": [
    "# Lower in Math Avg and Freshman - groupby\n",
    "data.groupby('Rank')['Math'].mean()\n",
    "\n",
    "# math_average = data['Math'].mean()\n",
    "# math_lower_avg =data[ data['Math'] < math_average and data['Rank']== 'Freshman']\n",
    "# math_lower_avg\n"
   ]
  },
  {
   "cell_type": "code",
   "execution_count": 86,
   "metadata": {},
   "outputs": [
    {
     "data": {
      "image/png": "[encoded data removed]",
      "text/plain": [
       "<Figure size 640x480 with 1 Axes>"
      ]
     },
     "metadata": {},
     "output_type": "display_data"
    }
   ],
   "source": [
    "# DATA VISUALIZATION with matplotlib\n",
    "import matplotlib.pyplot as plt\n",
    "# 1. Line Graph : Uses two Continuous variables, Height, Math capabilities\n",
    "# Linear Regression\n",
    "\n",
    "x = [0,5,15,20,25,30]\n",
    "y = [0,3,6,9,12,15]\n",
    "\n",
    "plt.plot(x, y)\n",
    "plt.title(\"Line Plot of Tv Ads Against Sales\")\n",
    "plt.xlabel('Tv Adverts')\n",
    "plt.ylabel('Sales')\n",
    "plt.show()\n",
    "\n"
   ]
  },
  {
   "cell_type": "code",
   "execution_count": 90,
   "metadata": {},
   "outputs": [
    {
     "data": {
      "image/png": "[encoded data removed]",
      "text/plain": [
       "<Figure size 640x480 with 1 Axes>"
      ]
     },
     "metadata": {},
     "output_type": "display_data"
    }
   ],
   "source": [
    "# Bar Plot : Used to Represent the Frequency of Distribution \n",
    "# Takes one Continuous Variable and one Categorical Data\n",
    "\n",
    "plt.bar(data['Rank'], data['Math'])\n",
    "plt.title(\"Math Score Dist. Against Rank\")\n",
    "plt.xlabel('Math Score')\n",
    "plt.ylabel('Rank')\n",
    "plt.show()"
   ]
  },
  {
   "cell_type": "code",
   "execution_count": 91,
   "metadata": {},
   "outputs": [
    {
     "data": {
      "image/png": "[encoded data removed]",
      "text/plain": [
       "<Figure size 640x480 with 1 Axes>"
      ]
     },
     "metadata": {},
     "output_type": "display_data"
    }
   ],
   "source": [
    "\n",
    "x = [0,5,15,20,25,30]\n",
    "y = [0,3,6,9,12,15]\n",
    "\n",
    "plt.scatter(x, y)\n",
    "plt.title(\"Scatter Plot of Tv Ads Against Sales\")\n",
    "plt.xlabel('Tv Adverts')\n",
    "plt.ylabel('Sales')\n",
    "plt.show()"
   ]
  },
  {
   "cell_type": "code",
   "execution_count": 95,
   "metadata": {},
   "outputs": [
    {
     "data": {
      "image/png": "[encoded data removed]",
      "text/plain": [
       "<Figure size 640x480 with 1 Axes>"
      ]
     },
     "metadata": {},
     "output_type": "display_data"
    }
   ],
   "source": [
    "# Pie Charts : Distribution of an ordinal categorical variable\n",
    "\n",
    "labels =[\"Freshman\",\"Sophomore\",\"Junior\",\"Senior\",\"Unknown\"]\n",
    "plt.pie(data.groupby('Rank').size(), labels=labels, autopct=\"%1.1f%%\")\n",
    "plt.show()"
   ]
  },
  {
   "cell_type": "code",
   "execution_count": 96,
   "metadata": {},
   "outputs": [
    {
     "data": {
      "image/png": "[encoded data removed]",
      "text/plain": [
       "<Figure size 640x480 with 1 Axes>"
      ]
     },
     "metadata": {},
     "output_type": "display_data"
    }
   ],
   "source": [
    "# Box Plot : Used in continuous variables to show outliers\n",
    "plt.boxplot(data['Reading'])\n",
    "plt.show()"
   ]
  },
  {
   "cell_type": "code",
   "execution_count": 1,
   "metadata": {},
   "outputs": [],
   "source": [
    "# Inferential Statistics\n",
    "# Inter-quartial range IQR \n",
    "# IQR : Difference between the Upper Quatile and Lower Quatile\n",
    "# Categorical\n",
    "# a.) Nominal\n",
    "# b.) Ordinal \n",
    "\n",
    "# Numerical\n",
    "# a.) Discrete : Without decimal e,g year\n",
    "# b.) Continuous (scale) : Decimal places(fractions)"
   ]
  }
 ],
 "metadata": {
  "kernelspec": {
   "display_name": "Python 3",
   "language": "python",
   "name": "python3"
  },
  "language_info": {
   "codemirror_mode": {
    "name": "ipython",
    "version": 3
   },
   "file_extension": ".py",
   "mimetype": "text/x-python",
   "name": "python",
   "nbconvert_exporter": "python",
   "pygments_lexer": "ipython3",
   "version": "3.10.6 (main, Nov 14 2022, 16:10:14) [GCC 11.3.0]"
  },
  "orig_nbformat": 4,
  "vscode": {
   "interpreter": {
    "hash": "916dbcbb3f70747c44a77c7bcd40155683ae19c65e1c03b4aa3499c5328201f1"
   }
  }
 },
 "nbformat": 4,
 "nbformat_minor": 2
}
